{
 "cells": [
  {
   "cell_type": "code",
   "execution_count": 17,
   "id": "3eadc4dc",
   "metadata": {},
   "outputs": [],
   "source": [
    "# 현재 설치된 모든 패키지 저장\n",
    "!pip freeze > requirements.txt"
   ]
  },
  {
   "cell_type": "code",
   "execution_count": null,
   "id": "19b50ded",
   "metadata": {},
   "outputs": [],
   "source": [
    "# requirements.txt에서 패키지 설치하기\n",
    "!pip install -r requirements.txt"
   ]
  },
  {
   "cell_type": "code",
   "execution_count": null,
   "id": "80ba2f5b",
   "metadata": {},
   "outputs": [
    {
     "name": "stdout",
     "output_type": "stream",
     "text": [
      " user 테이블이 성공적으로 생성되었습니다. \n"
     ]
    }
   ],
   "source": [
    "# DB 테이블 생성\n",
    "import mysql.connector\n",
    "\n",
    "try:\n",
    "    # DB 연결\n",
    "    conn = mysql.connector.connect(\n",
    "        host = \"192.168.0.64\",\n",
    "        user=\"advanced_db\",\n",
    "        password=\"human_advanced\",\n",
    "        database=\"advanced_project\"\n",
    "    )\n",
    "\n",
    "    cursor = conn.cursor()\n",
    "\n",
    "    # users 테이블 생성 쿼리\n",
    "    create_table_query = \"\"\"\n",
    "    CREATE TABLE IF NOT EXISTS users (\n",
    "        id INT AUTO_INCREMENT PRIMARY KEY,\n",
    "        username VARCHAR(50) NOT NULL UNIQUE,\n",
    "        password_hash VARCHAR(255) NOT NULL,\n",
    "        email VARCHAR(100),\n",
    "        role VARCHAR(20) DEFAULT 'user',\n",
    "        nickname VARCHAR(50),\n",
    "        profile_image VARCHAR(255) DEFAULT \"static/images/default_profile.png\",\n",
    "        created_at DATETIME DEFAULT CURRENT_TIMESTAMP\n",
    "    );\n",
    "    \"\"\"\n",
    "\n",
    "    cursor.execute(create_table_query)\n",
    "    conn.commit()\n",
    "\n",
    "    print(\" user 테이블이 성공적으로 생성되었습니다. \")\n",
    "\n",
    "except mysql.connector.Error as err:\n",
    "    print(f\" 데이터 베이스 오류 발생: {err}\")\n",
    "except Exception as e:\n",
    "    print(f\"❌ 예기치 못한 오류 발생: {e}\")\n",
    "\n",
    "finally:\n",
    "    cursor.close()\n",
    "    conn.close()"
   ]
  },
  {
   "cell_type": "code",
   "execution_count": null,
   "id": "073f3cf1",
   "metadata": {},
   "outputs": [
    {
     "name": "stdout",
     "output_type": "stream",
     "text": [
      " admin 계정이 성공적으로 추가되었습니다. \n"
     ]
    }
   ],
   "source": [
    "# admin 계정 추가\n",
    "import bcrypt\n",
    "import mysql.connector\n",
    "\n",
    "# 1. 비밀번호 암호화\n",
    "plain_password = \"admin1234\"\n",
    "hashed_password = bcrypt.hashpw(plain_password.encode('utf-8'), bcrypt.gensalt())\n",
    "\n",
    "# 2. DB 연결\n",
    "try:\n",
    "    conn = mysql.connector.connect(\n",
    "        host = \"192.168.0.64\",\n",
    "        user = \"advanced_db\",\n",
    "        password = \"human_advanced\",\n",
    "        database = \"advanced_project\"\n",
    "    )\n",
    "    cursor = conn.cursor()\n",
    "\n",
    "    # 3. admin 계정 추가\n",
    "    insert_query = \"\"\"\n",
    "    INSERT INTO users (username, password_hash, email, role)\n",
    "    VALUES (%s, %s, %s, %s, %s)\n",
    "    \"\"\"\n",
    "    cursor.execute (insert_query, (\"admin\", hashed_password.decode(\"utf-8\"), \"admin@example.com\", \"admin\", \"admin\"))\n",
    "    conn.commit()\n",
    "    print(\" admin 계정이 성공적으로 추가되었습니다. \")\n",
    "\n",
    "except mysql.connector.Error as err:\n",
    "    print(f\" DB 오류: {err} \")\n",
    "except Exception as e:\n",
    "    print(f\" 일반 오류: {e} \")\n",
    "\n",
    "finally:\n",
    "    cursor.close()\n",
    "    conn.close()\n"
   ]
  },
  {
   "cell_type": "code",
   "execution_count": 10,
   "id": "cfc3ed71",
   "metadata": {},
   "outputs": [
    {
     "name": "stdout",
     "output_type": "stream",
     "text": [
      "               user         host\n",
      "0          humanda5            %\n",
      "1       advanced_db  192.168.0.%\n",
      "2          humanda5    localhost\n",
      "3  mysql.infoschema    localhost\n",
      "4     mysql.session    localhost\n",
      "5         mysql.sys    localhost\n",
      "6              root    localhost\n"
     ]
    },
    {
     "name": "stderr",
     "output_type": "stream",
     "text": [
      "C:\\Users\\human\\AppData\\Local\\Temp\\ipykernel_9676\\3654164985.py:13: UserWarning: pandas only supports SQLAlchemy connectable (engine/connection) or database string URI or sqlite3 DBAPI2 connection. Other DBAPI2 objects are not tested. Please consider using SQLAlchemy.\n",
      "  df = pd.read_sql(query, conn)\n"
     ]
    }
   ],
   "source": [
    "import mysql.connector\n",
    "import pandas as pd\n",
    "\n",
    "# MySQL 연결\n",
    "conn = mysql.connector.connect(\n",
    "    host=\"192.168.0.64\",        # 또는 서버 IP 주소\n",
    "    user=\"advanced_db\",             # 사용자 이름\n",
    "    password=\"human_advanced\" # 비밀번호\n",
    ")\n",
    "\n",
    "# 쿼리 실행\n",
    "query = \"SELECT user, host FROM mysql.user;\"\n",
    "df = pd.read_sql(query, conn)\n",
    "\n",
    "# 결과 출력\n",
    "print(df)\n",
    "\n",
    "# 연결 종료\n",
    "conn.close()"
   ]
  },
  {
   "cell_type": "code",
   "execution_count": 16,
   "id": "a0b79057",
   "metadata": {},
   "outputs": [
    {
     "name": "stderr",
     "output_type": "stream",
     "text": [
      "C:\\Users\\human\\AppData\\Local\\Temp\\ipykernel_9676\\4165993240.py:12: UserWarning: pandas only supports SQLAlchemy connectable (engine/connection) or database string URI or sqlite3 DBAPI2 connection. Other DBAPI2 objects are not tested. Please consider using SQLAlchemy.\n",
      "  df = pd.read_sql(\"SELECT * FROM users LIMIT 10;\", conn)\n"
     ]
    },
    {
     "data": {
      "text/html": [
       "<div>\n",
       "<style scoped>\n",
       "    .dataframe tbody tr th:only-of-type {\n",
       "        vertical-align: middle;\n",
       "    }\n",
       "\n",
       "    .dataframe tbody tr th {\n",
       "        vertical-align: top;\n",
       "    }\n",
       "\n",
       "    .dataframe thead th {\n",
       "        text-align: right;\n",
       "    }\n",
       "</style>\n",
       "<table border=\"1\" class=\"dataframe\">\n",
       "  <thead>\n",
       "    <tr style=\"text-align: right;\">\n",
       "      <th></th>\n",
       "      <th>id</th>\n",
       "      <th>username</th>\n",
       "      <th>password_hash</th>\n",
       "      <th>email</th>\n",
       "      <th>role</th>\n",
       "      <th>created_at</th>\n",
       "      <th>nickname</th>\n",
       "      <th>profile_image</th>\n",
       "    </tr>\n",
       "  </thead>\n",
       "  <tbody>\n",
       "    <tr>\n",
       "      <th>0</th>\n",
       "      <td>1</td>\n",
       "      <td>admin</td>\n",
       "      <td>$2b$12$mtLOK/m9wHSns7mEXkkkNeM1a/kZvF2Sb5mCT9M...</td>\n",
       "      <td>admin@example.com</td>\n",
       "      <td>admin</td>\n",
       "      <td>2025-05-20 12:22:22</td>\n",
       "      <td>admin</td>\n",
       "      <td>static/images/default_profile.png</td>\n",
       "    </tr>\n",
       "  </tbody>\n",
       "</table>\n",
       "</div>"
      ],
      "text/plain": [
       "   id username                                      password_hash  \\\n",
       "0   1    admin  $2b$12$mtLOK/m9wHSns7mEXkkkNeM1a/kZvF2Sb5mCT9M...   \n",
       "\n",
       "               email   role          created_at nickname  \\\n",
       "0  admin@example.com  admin 2025-05-20 12:22:22    admin   \n",
       "\n",
       "                       profile_image  \n",
       "0  static/images/default_profile.png  "
      ]
     },
     "execution_count": 16,
     "metadata": {},
     "output_type": "execute_result"
    }
   ],
   "source": [
    "# db 연결 확인용 코드\n",
    "import pymysql\n",
    "import pandas as pd\n",
    "\n",
    "conn = pymysql.connect(\n",
    "    host = \"192.168.0.64\",\n",
    "    user = \"advanced_db\",\n",
    "    password = \"human_advanced\",\n",
    "    database = \"advanced_project\"\n",
    ")\n",
    "\n",
    "df = pd.read_sql(\"SELECT * FROM users LIMIT 10;\", conn)\n",
    "\n",
    "conn.close()\n",
    "\n",
    "df"
   ]
  }
 ],
 "metadata": {
  "kernelspec": {
   "display_name": "flask_rag_chatbot",
   "language": "python",
   "name": "python3"
  },
  "language_info": {
   "codemirror_mode": {
    "name": "ipython",
    "version": 3
   },
   "file_extension": ".py",
   "mimetype": "text/x-python",
   "name": "python",
   "nbconvert_exporter": "python",
   "pygments_lexer": "ipython3",
   "version": "3.11.11"
  }
 },
 "nbformat": 4,
 "nbformat_minor": 5
}
