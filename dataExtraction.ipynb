{
 "cells": [
  {
   "cell_type": "code",
   "execution_count": 1,
   "id": "da8d535d",
   "metadata": {},
   "outputs": [],
   "source": [
    "from bs4 import BeautifulSoup\n",
    "import pandas as pd\n",
    "from langchain.text_splitter import RecursiveCharacterTextSplitter\n",
    "import os\n",
    "\n",
    "from langchain.embeddings import HuggingFaceEmbeddings\n",
    "from langchain.vectorstores import FAISS\n",
    "from langchain.schema import Document"
   ]
  },
  {
   "cell_type": "code",
   "execution_count": 17,
   "id": "c7f7872a",
   "metadata": {},
   "outputs": [
    {
     "data": {
      "text/html": [
       "<div>\n",
       "<style scoped>\n",
       "    .dataframe tbody tr th:only-of-type {\n",
       "        vertical-align: middle;\n",
       "    }\n",
       "\n",
       "    .dataframe tbody tr th {\n",
       "        vertical-align: top;\n",
       "    }\n",
       "\n",
       "    .dataframe thead th {\n",
       "        text-align: right;\n",
       "    }\n",
       "</style>\n",
       "<table border=\"1\" class=\"dataframe\">\n",
       "  <thead>\n",
       "    <tr style=\"text-align: right;\">\n",
       "      <th></th>\n",
       "      <th>title</th>\n",
       "      <th>content</th>\n",
       "      <th>folder</th>\n",
       "      <th>page</th>\n",
       "    </tr>\n",
       "  </thead>\n",
       "  <tbody>\n",
       "    <tr>\n",
       "      <th>0</th>\n",
       "      <td>청년어촌정착지원금</td>\n",
       "      <td>청년 어촌 정착 지원사업은 창업 초기 청년 수산업 경영인의 안정적인 어촌 정착을 돕...</td>\n",
       "      <td>contents_2</td>\n",
       "      <td>청년어촌정착지원금</td>\n",
       "    </tr>\n",
       "  </tbody>\n",
       "</table>\n",
       "</div>"
      ],
      "text/plain": [
       "       title                                            content      folder  \\\n",
       "0  청년어촌정착지원금  청년 어촌 정착 지원사업은 창업 초기 청년 수산업 경영인의 안정적인 어촌 정착을 돕...  contents_2   \n",
       "\n",
       "        page  \n",
       "0  청년어촌정착지원금  "
      ]
     },
     "execution_count": 17,
     "metadata": {},
     "output_type": "execute_result"
    }
   ],
   "source": [
    "mainPath1 = './templates/contents/contents_1/귀어귀촌개념.html'\n",
    "mainPath2 = './templates/contents/contents_1/귀어귀촌준비절차.html'\n",
    "mainPath3 = './templates/contents/contents_1/어업면허허가.html'\n",
    "mainPath4 = './templates/contents/contents_1/어업정의.html'\n",
    "mainPath5 = './templates/contents/contents_2/귀어정책지원교육.html'\n",
    "mainPath6 = './templates/contents/contents_2/양식장및어선임대사업.html'\n",
    "mainPath7 = './templates/contents/contents_2/어촌이사혜택.html'\n",
    "mainPath8 = './templates/contents/contents_2/청년어촌정착지원금.html'\n",
    "\n",
    "file_path = [\n",
    "            # mainPath1\n",
    "            # ,mainPath2\n",
    "            # ,mainPath3\n",
    "            # ,mainPath4\n",
    "            #, mainPath5\n",
    "            #, mainPath6\n",
    "            #, mainPath7\n",
    "            mainPath8\n",
    "             ]\n",
    "contentList = []\n",
    "\n",
    "splitter = RecursiveCharacterTextSplitter(\n",
    "    chunk_size=500,     # 총 길이\n",
    "    chunk_overlap=50,   # 겹치는 길이\n",
    "    separators=[\"\\n\\n\", \"\\n\", \".\", \" \", \"\"],  # 끊는 우선순위\n",
    ")\n",
    "\n",
    "\n",
    "\n",
    "for i in file_path:\n",
    "    with open(i, 'r', encoding='utf-8') as f:\n",
    "        html_content = f.read()\n",
    "    \n",
    "    folder = os.path.basename(os.path.dirname(i)) \n",
    "    page = os.path.splitext(os.path.basename(i))[0]  \n",
    "    soup = BeautifulSoup(html_content, 'html.parser')\n",
    "    sections = soup.select('[name=\"section\"]')\n",
    "    titles = None\n",
    "    contents = None\n",
    "    \n",
    "    title = None\n",
    "    content = None\n",
    "    for j in sections:\n",
    "        titles = j.select('[name=\"content_title\"]')\n",
    "        contents = j.select('[name=\"content_text\"]')\n",
    "        # 둘 다 1개 이상일 때\n",
    "        if len(titles) > 1 and len(contents) > 1:\n",
    "            count = min(len(titles), len(contents))  # 길이 맞추기\n",
    "            for k in range(count):\n",
    "                title = titles[k].get_text(strip=True)\n",
    "\n",
    "                content = contents[k].get_text(strip=True)\n",
    "                \n",
    "\n",
    "                chunks = splitter.split_text(content)\n",
    "                for k, chunk in enumerate(chunks):\n",
    "                    contentList.append([title, chunk, folder, page])\n",
    "\n",
    "        # 하나만 있을 경우 (정확히 하나일 때만 출력)\n",
    "        elif len(titles) == 1 and len(contents) == 1:\n",
    "            title = titles[0].get_text(strip=True)\n",
    "            content = contents[0].get_text(strip=True)\n",
    "            chunks = splitter.split_text(content)\n",
    "            for k, chunk in enumerate(chunks):\n",
    "                contentList.append([title, chunk, folder, page])\n",
    "        else:\n",
    "            print(\"제목 또는 내용이 없습니다.\")\n",
    "            # print(j)\n",
    "\n",
    "df = pd.DataFrame(contentList,columns=[\"title\", \"content\", \"folder\", \"page\"])\n",
    "df\n",
    "\n"
   ]
  },
  {
   "cell_type": "code",
   "execution_count": 45,
   "id": "61da9629",
   "metadata": {},
   "outputs": [
    {
     "name": "stderr",
     "output_type": "stream",
     "text": [
      "C:\\Users\\human\\AppData\\Local\\Temp\\ipykernel_5956\\4096798401.py:7: LangChainDeprecationWarning: The class `HuggingFaceEmbeddings` was deprecated in LangChain 0.2.2 and will be removed in 1.0. An updated version of the class exists in the :class:`~langchain-huggingface package and should be used instead. To use it run `pip install -U :class:`~langchain-huggingface` and import as `from :class:`~langchain_huggingface import HuggingFaceEmbeddings``.\n",
      "  embedding_model = HuggingFaceEmbeddings(model_name=\"jhgan/ko-sroberta-multitask\")\n"
     ]
    }
   ],
   "source": [
    "# 2. 문서 객체 생성\n",
    "documents = [\n",
    "    Document(page_content=row['content'], metadata={\"title\": row['title'], \"folder\": row['folder'], \"page\": row['page']})\n",
    "    for _, row in df.iterrows()\n",
    "]\n",
    "\n",
    "embedding_model = HuggingFaceEmbeddings(model_name=\"jhgan/ko-sroberta-multitask\")\n",
    "\n",
    "vectorstore = FAISS.from_documents(documents=documents, embedding=embedding_model)\n",
    "\n",
    "vectorstore.save_local(\"faiss_store/contents\")"
   ]
  }
 ],
 "metadata": {
  "kernelspec": {
   "display_name": "python-env-311",
   "language": "python",
   "name": "python3"
  },
  "language_info": {
   "codemirror_mode": {
    "name": "ipython",
    "version": 3
   },
   "file_extension": ".py",
   "mimetype": "text/x-python",
   "name": "python",
   "nbconvert_exporter": "python",
   "pygments_lexer": "ipython3",
   "version": "3.11.11"
  }
 },
 "nbformat": 4,
 "nbformat_minor": 5
}
