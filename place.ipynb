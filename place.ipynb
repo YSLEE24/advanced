{
 "cells": [
  {
   "cell_type": "code",
   "execution_count": 3,
   "id": "34ea1654",
   "metadata": {},
   "outputs": [
    {
     "name": "stdout",
     "output_type": "stream",
     "text": [
      "✅ JSON 응답 -> CSV 저장 완료!\n"
     ]
    }
   ],
   "source": [
    "import requests\n",
    "import pandas as pd\n",
    "\n",
    "API_KEY = '1d5lUlLRGG7R6uVJm5xuDQtMtJovWHHo97yF/nH7VqS71sSeApaADjir8SRxdiAs0d73igi3DeaOJJPvGWzDnw=='\n",
    "url = 'https://api.odcloud.kr/api/15070721/v1/uddi:e2a719ea-e3ec-41be-a272-d9e17ec613d1'\n",
    "\n",
    "params = {\n",
    "    'serviceKey': API_KEY,\n",
    "    'page': 1,\n",
    "    'perPage': 100,\n",
    "    'returnType': 'json',  # JSON 요청\n",
    "    'sidoName': '서울'\n",
    "}\n",
    "\n",
    "response = requests.get(url, params=params)\n",
    "response.raise_for_status()  # 오류 체크\n",
    "\n",
    "json_data = response.json()\n",
    "\n",
    "# 데이터가 'data' 키 아래에 있는 경우가 많음 (확인 필요)\n",
    "items = json_data.get('data', [])\n",
    "\n",
    "# DataFrame 변환 후 CSV 저장\n",
    "df = pd.DataFrame(items)\n",
    "df.to_csv('fishing_tool_place', index=False, encoding='utf-8-sig')\n",
    "\n",
    "print(\"✅ JSON 응답 -> CSV 저장 완료!\")\n"
   ]
  }
 ],
 "metadata": {
  "kernelspec": {
   "display_name": "chatbot",
   "language": "python",
   "name": "python3"
  },
  "language_info": {
   "codemirror_mode": {
    "name": "ipython",
    "version": 3
   },
   "file_extension": ".py",
   "mimetype": "text/x-python",
   "name": "python",
   "nbconvert_exporter": "python",
   "pygments_lexer": "ipython3",
   "version": "3.11.11"
  }
 },
 "nbformat": 4,
 "nbformat_minor": 5
}
